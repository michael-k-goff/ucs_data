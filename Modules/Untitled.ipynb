{
 "cells": [
  {
   "cell_type": "code",
   "execution_count": 8,
   "metadata": {},
   "outputs": [
    {
     "name": "stdout",
     "output_type": "stream",
     "text": [
      "{'rp1': 279440, 'lox': 650060}\n",
      "3\n",
      "1\n"
     ]
    }
   ],
   "source": [
    "# Space\n",
    "\n",
    "from primary_energy_factors import primary_factors # Source is 'energycode'\n",
    "primary_factors[\"rp1\"] = 1.05 # Assuming it is the same as some other petroleum-based fuels.\n",
    "\n",
    "# Launch costs, monetary and energy. Based on Falcon Heavy.\n",
    "\n",
    "falcon_heavy_cost = 90000000 # Dollars per launch\n",
    "# The following payloads assume expendable rockets.\n",
    "falcon_heavy_tonnage = { # kg, actually\n",
    "    \"Low Earth Orbit\":63800,\n",
    "    \"Geosychronous Transfer Orbit\":26700,\n",
    "    \"Mars\":16800\n",
    "}\n",
    "# Based on GTO, less payload with a resuable launch (standard payment plan).\n",
    "# For calculations I will assume this ratio applies to all launch scenarios, which is probably not exactly accurate.\n",
    "reusable_adjustor = 8000. / 26700.\n",
    "\n",
    "for key in falcon_heavy_tonnage:\n",
    "    falcon_heavy_tonnage[key] *= reusable_adjustor\n",
    "    \n",
    "falcon_heavy_con_per_ton = {\n",
    "    falcon_heavy_cost / falcon_heavy_tonnage[key] for key in falcon_heavy_tonnage\n",
    "}\n",
    "#print (falcon_heavy_con_per_ton)\n",
    "\n",
    "# From falcon_heavy_energy. Also reviewed https://space.stackexchange.com/questions/32729/how-much-fuel-does-the-falcon-heavy-use-what-is-the-price-rp-1\n",
    "# Figures in kilograms\n",
    "falcon_heavy_energy = {\n",
    "    \"rp1\":123570*2 + 32300,\n",
    "    \"lox\":287430*2 + 75200\n",
    "}\n",
    "print(falcon_heavy_energy)\n",
    "falcon_heavy_energy[\"rp1\"] = 3\n",
    "print(falcon_heavy_energy[\"rp1\"])\n",
    "\n",
    "#asdf = falcon_heavy_energy[\"rp1\"] * 12.8*3.6*primary_factors[\"rp1\"]\n",
    "falcon_heavy_energy[\"rp1\"] = 1 # The 12.8 term is from 'hotair', converting a kg of fuel (kerosene) to kWh, then MJ, then primary energy\n",
    "print(falcon_heavy_energy[\"rp1\"])\n",
    "falcon_heavy_energy[\"lox\"] = falcon_heavy_energy[\"lox\"] * 0.8 * 3.6 * primary_factors[\"Electricity\"] # lox_energy. This is to produce the liquid oxygen.\n",
    "\n",
    "#falcon_heavy_energy_total = sum([falcon_heavy_energy[key] for key in falcon_heavy_energy])\n",
    "\n",
    "#falcon_heavy_energy_perton = {\n",
    "#    falcon_heavy_energy_total / falcon_heavy_tonnage[key] for key in falcon_heavy_tonnage\n",
    "#}"
   ]
  },
  {
   "cell_type": "code",
   "execution_count": null,
   "metadata": {},
   "outputs": [],
   "source": []
  }
 ],
 "metadata": {
  "kernelspec": {
   "display_name": "Python 3",
   "language": "python",
   "name": "python3"
  },
  "language_info": {
   "codemirror_mode": {
    "name": "ipython",
    "version": 3
   },
   "file_extension": ".py",
   "mimetype": "text/x-python",
   "name": "python",
   "nbconvert_exporter": "python",
   "pygments_lexer": "ipython3",
   "version": "3.7.2"
  }
 },
 "nbformat": 4,
 "nbformat_minor": 2
}
